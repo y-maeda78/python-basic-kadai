{
  "nbformat": 4,
  "nbformat_minor": 0,
  "metadata": {
    "colab": {
      "provenance": []
    },
    "kernelspec": {
      "name": "python3",
      "display_name": "Python 3"
    },
    "language_info": {
      "name": "python"
    }
  },
  "cells": [
    {
      "cell_type": "code",
      "execution_count": 4,
      "metadata": {
        "colab": {
          "base_uri": "https://localhost:8080/"
        },
        "id": "wlAHnvdbv-j3",
        "outputId": "c321bafc-2ffc-45c3-f4fb-46ce59e6ac7c"
      },
      "outputs": [
        {
          "output_type": "stream",
          "name": "stdout",
          "text": [
            "名前:侍太郎\n",
            "年齢:30\n"
          ]
        }
      ],
      "source": [
        "# クラス名 Human\n",
        "# 属性     名前(name),年齢(age)\n",
        "\n",
        "# メソッド名 printinfo()\n",
        "# 引数       str name,int age\n",
        "# 戻値       なし\n",
        "\n",
        "class Human:\n",
        "    def __init__(self, name, age):\n",
        "        self.name = name\n",
        "        self.age = age\n",
        "\n",
        "    def printinfo(self):\n",
        "        print(f\"名前:{self.name}\")\n",
        "        print(f\"年齢:{self.age}\")\n",
        "\n",
        "# インスタンス\n",
        "human = Human(\"侍太郎\", 30)\n",
        "\n",
        "human.printinfo()\n"
      ]
    }
  ]
}