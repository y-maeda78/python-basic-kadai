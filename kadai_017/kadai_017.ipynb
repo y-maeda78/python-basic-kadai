{
  "nbformat": 4,
  "nbformat_minor": 0,
  "metadata": {
    "colab": {
      "provenance": []
    },
    "kernelspec": {
      "name": "python3",
      "display_name": "Python 3"
    },
    "language_info": {
      "name": "python"
    }
  },
  "cells": [
    {
      "cell_type": "code",
      "execution_count": 1,
      "metadata": {
        "colab": {
          "base_uri": "https://localhost:8080/"
        },
        "id": "llX8Y9WlhuuS",
        "outputId": "1405afb9-9f41-40cd-e3b1-8e612222a288"
      },
      "outputs": [
        {
          "output_type": "stream",
          "name": "stdout",
          "text": [
            "侍太郎は大人です。\n",
            "侍花子は大人ではありません。\n",
            "侍五郎は大人です。\n"
          ]
        }
      ],
      "source": [
        "\"\"\"\n",
        "クラス名  Human\n",
        "属性      名前(name),年齢(age)\n",
        "\"\"\"\n",
        "\n",
        "class Human:\n",
        "    def __init__(self, name, age):\n",
        "        self.name = name\n",
        "        self.age = age\n",
        "\n",
        "    \"\"\"\n",
        "    メソッド名  check_adult()\n",
        "    戻値        20以上の場合は「大人であること」を返す\n",
        "                それ以上の場合は「大人でないこと」を返す\n",
        "    引数        なし\n",
        "    \"\"\"\n",
        "    def check_adult(self):\n",
        "        if self.age >= 20:\n",
        "            print(f\"{self.name}は、大人です。\")\n",
        "        else:\n",
        "            print(f\"{self.name}は、大人ではありません。\")\n",
        "\n",
        "\n",
        "\"\"\"\n",
        "1.Humanクラスのインスタンスを複数生成しリストに追加する\n",
        "2.リストの要素数分だけcheck_adultメソッドを呼び出す\n",
        "\"\"\"\n",
        "#インスタンスの生成\n",
        "human_list = [\n",
        "    Human(\"侍太郎\", 25),\n",
        "    Human(\"侍花子\", 15),\n",
        "    Human(\"侍五郎\", 30),\n",
        "]\n",
        "\n",
        "#リストの要素数分だけメソッドを呼び出す\n",
        "for human in human_list:\n",
        "  human.check_adult()"
      ]
    }
  ]
}