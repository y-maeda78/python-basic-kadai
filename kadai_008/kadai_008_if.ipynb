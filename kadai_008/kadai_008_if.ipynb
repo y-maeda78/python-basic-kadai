{
  "nbformat": 4,
  "nbformat_minor": 0,
  "metadata": {
    "colab": {
      "provenance": []
    },
    "kernelspec": {
      "name": "python3",
      "display_name": "Python 3"
    },
    "language_info": {
      "name": "python"
    }
  },
  "cells": [
    {
      "cell_type": "code",
      "execution_count": 36,
      "metadata": {
        "colab": {
          "base_uri": "https://localhost:8080/"
        },
        "id": "kG7mj_Fda71g",
        "outputId": "a65f523f-df6b-46d4-e5b9-5d48cb2fae1c"
      },
      "outputs": [
        {
          "output_type": "stream",
          "name": "stdout",
          "text": [
            "FizzBuzz\n"
          ]
        }
      ],
      "source": [
        "\"\"\"\n",
        "・変数varが、3の倍数の場合は「Fizz」を出力\n",
        "・変数varが、5の倍数の場合は「Buzz」を出力\n",
        "・変数varが、3の倍数と5の倍数の両方に該当する場合は「FizzBuzz」を出力\n",
        "・上記のどの場合にも該当しない場合は、変数varの値を出力\n",
        "\"\"\"\n",
        "import random\n",
        "var = random.randint(0, 100)\n",
        "\n",
        "if var % 3 == 0 and var % 5 == 0:\n",
        "  print(\"FizzBuzz\")\n",
        "elif var % 3 == 0:\n",
        "  print(\"Fizz\")\n",
        "elif var % 5 == 0:\n",
        "  print(\"Buzz\")\n",
        "else:\n",
        "  print(var)"
      ]
    }
  ]
}