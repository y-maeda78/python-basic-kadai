{
  "nbformat": 4,
  "nbformat_minor": 0,
  "metadata": {
    "colab": {
      "provenance": []
    },
    "kernelspec": {
      "name": "python3",
      "display_name": "Python 3"
    },
    "language_info": {
      "name": "python"
    }
  },
  "cells": [
    {
      "cell_type": "code",
      "execution_count": 9,
      "metadata": {
        "colab": {
          "base_uri": "https://localhost:8080/"
        },
        "id": "2LZ8iD9OZtxW",
        "outputId": "34201991-d075-46c0-8821-1a0c7bf68451"
      },
      "outputs": [
        {
          "output_type": "stream",
          "name": "stdout",
          "text": [
            "商品金額：110円\n",
            "税込価格：121.0円\n"
          ]
        }
      ],
      "source": [
        "# 商品購入時の消費税を関数で計算するプログラム\n",
        "\n",
        "# 関数名　get_total_price()\n",
        "# 戻り値  float 合計金額\n",
        "# 引数　  int 商品の金額,消費税(10％)\n",
        "\n",
        "def get_total_price(price: int, tax: int) -> float:\n",
        "  total_price = price + (tax / 100 * price)\n",
        "  return total_price\n",
        "\n",
        "item_price = 110\n",
        "tax = 10\n",
        "\n",
        "print(f\"商品金額：{item_price}円\")\n",
        "print(f\"税込価格：{get_total_price(item_price, tax)}円\")"
      ]
    }
  ]
}